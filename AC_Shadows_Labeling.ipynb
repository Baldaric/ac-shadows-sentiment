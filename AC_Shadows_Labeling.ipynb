{
 "cells": [
  {
   "cell_type": "markdown",
   "metadata": {},
   "source": [
    "# Import Libraries"
   ]
  },
  {
   "cell_type": "code",
   "execution_count": 1,
   "metadata": {},
   "outputs": [],
   "source": [
    "import pandas as pd\n",
    "from vaderSentiment.vaderSentiment import SentimentIntensityAnalyzer\n",
    "import matplotlib.pyplot as plt\n",
    "from transformers import pipeline\n",
    "from wordcloud import WordCloud"
   ]
  },
  {
   "cell_type": "markdown",
   "metadata": {},
   "source": [
    "# Data Loading"
   ]
  },
  {
   "cell_type": "code",
   "execution_count": 2,
   "metadata": {},
   "outputs": [
    {
     "name": "stdout",
     "output_type": "stream",
     "text": [
      "Reviews after filtering: 9172\n"
     ]
    }
   ],
   "source": [
    "# Load your latest saved file\n",
    "df_ori = pd.read_csv(\"AC_Shadows_sentiment_final.csv\")\n",
    "\n",
    "# Keep only non-empty review texts\n",
    "df = df_ori[df_ori[\"review_text\"].notnull()]\n",
    "\n",
    "# (Optional) Filter to English\n",
    "df = df[df[\"language\"] == \"english\"]\n",
    "print(f\"Reviews after filtering: {len(df)}\")\n"
   ]
  },
  {
   "cell_type": "code",
   "execution_count": 3,
   "metadata": {},
   "outputs": [
    {
     "data": {
      "text/html": [
       "<div>\n",
       "<style scoped>\n",
       "    .dataframe tbody tr th:only-of-type {\n",
       "        vertical-align: middle;\n",
       "    }\n",
       "\n",
       "    .dataframe tbody tr th {\n",
       "        vertical-align: top;\n",
       "    }\n",
       "\n",
       "    .dataframe thead th {\n",
       "        text-align: right;\n",
       "    }\n",
       "</style>\n",
       "<table border=\"1\" class=\"dataframe\">\n",
       "  <thead>\n",
       "    <tr style=\"text-align: right;\">\n",
       "      <th></th>\n",
       "      <th>review_id</th>\n",
       "      <th>review_text</th>\n",
       "      <th>votes_up</th>\n",
       "      <th>votes_funny</th>\n",
       "      <th>comment_count</th>\n",
       "      <th>author_steamid</th>\n",
       "      <th>author_playtime_forever</th>\n",
       "      <th>author_playtime_last_2weeks</th>\n",
       "      <th>language</th>\n",
       "      <th>timestamp_created</th>\n",
       "      <th>timestamp_updated</th>\n",
       "      <th>review_score</th>\n",
       "      <th>written_during_early_access</th>\n",
       "    </tr>\n",
       "  </thead>\n",
       "  <tbody>\n",
       "    <tr>\n",
       "      <th>0</th>\n",
       "      <td>190981496</td>\n",
       "      <td>Micro transactions in a single-player game wit...</td>\n",
       "      <td>3817</td>\n",
       "      <td>100</td>\n",
       "      <td>0</td>\n",
       "      <td>76561198138838965</td>\n",
       "      <td>111</td>\n",
       "      <td>111</td>\n",
       "      <td>english</td>\n",
       "      <td>1742731944</td>\n",
       "      <td>1742731944</td>\n",
       "      <td>0.878522</td>\n",
       "      <td>False</td>\n",
       "    </tr>\n",
       "    <tr>\n",
       "      <th>1</th>\n",
       "      <td>190725656</td>\n",
       "      <td>I can't play this singleplayer game because of...</td>\n",
       "      <td>9534</td>\n",
       "      <td>229</td>\n",
       "      <td>310</td>\n",
       "      <td>76561198154468788</td>\n",
       "      <td>3093</td>\n",
       "      <td>3093</td>\n",
       "      <td>english</td>\n",
       "      <td>1742492415</td>\n",
       "      <td>1742492415</td>\n",
       "      <td>0.871569</td>\n",
       "      <td>False</td>\n",
       "    </tr>\n",
       "    <tr>\n",
       "      <th>2</th>\n",
       "      <td>190939988</td>\n",
       "      <td>13 hours into the game i deeply regret buying ...</td>\n",
       "      <td>4400</td>\n",
       "      <td>102</td>\n",
       "      <td>0</td>\n",
       "      <td>76561198294868408</td>\n",
       "      <td>1816</td>\n",
       "      <td>1816</td>\n",
       "      <td>english</td>\n",
       "      <td>1742688758</td>\n",
       "      <td>1742688860</td>\n",
       "      <td>0.867577</td>\n",
       "      <td>False</td>\n",
       "    </tr>\n",
       "    <tr>\n",
       "      <th>3</th>\n",
       "      <td>190677868</td>\n",
       "      <td>Microtransaction in single player game never c...</td>\n",
       "      <td>15366</td>\n",
       "      <td>376</td>\n",
       "      <td>0</td>\n",
       "      <td>76561198273179269</td>\n",
       "      <td>2485</td>\n",
       "      <td>2485</td>\n",
       "      <td>english</td>\n",
       "      <td>1742440803</td>\n",
       "      <td>1742440803</td>\n",
       "      <td>0.866033</td>\n",
       "      <td>False</td>\n",
       "    </tr>\n",
       "    <tr>\n",
       "      <th>4</th>\n",
       "      <td>190871217</td>\n",
       "      <td>There is NO reason a single player offline exp...</td>\n",
       "      <td>4024</td>\n",
       "      <td>77</td>\n",
       "      <td>0</td>\n",
       "      <td>76561198289521474</td>\n",
       "      <td>9</td>\n",
       "      <td>9</td>\n",
       "      <td>english</td>\n",
       "      <td>1742631374</td>\n",
       "      <td>1742696462</td>\n",
       "      <td>0.818390</td>\n",
       "      <td>False</td>\n",
       "    </tr>\n",
       "  </tbody>\n",
       "</table>\n",
       "</div>"
      ],
      "text/plain": [
       "   review_id                                        review_text  votes_up  \\\n",
       "0  190981496  Micro transactions in a single-player game wit...      3817   \n",
       "1  190725656  I can't play this singleplayer game because of...      9534   \n",
       "2  190939988  13 hours into the game i deeply regret buying ...      4400   \n",
       "3  190677868  Microtransaction in single player game never c...     15366   \n",
       "4  190871217  There is NO reason a single player offline exp...      4024   \n",
       "\n",
       "   votes_funny  comment_count     author_steamid  author_playtime_forever  \\\n",
       "0          100              0  76561198138838965                      111   \n",
       "1          229            310  76561198154468788                     3093   \n",
       "2          102              0  76561198294868408                     1816   \n",
       "3          376              0  76561198273179269                     2485   \n",
       "4           77              0  76561198289521474                        9   \n",
       "\n",
       "   author_playtime_last_2weeks language  timestamp_created  timestamp_updated  \\\n",
       "0                          111  english         1742731944         1742731944   \n",
       "1                         3093  english         1742492415         1742492415   \n",
       "2                         1816  english         1742688758         1742688860   \n",
       "3                         2485  english         1742440803         1742440803   \n",
       "4                            9  english         1742631374         1742696462   \n",
       "\n",
       "   review_score  written_during_early_access  \n",
       "0      0.878522                        False  \n",
       "1      0.871569                        False  \n",
       "2      0.867577                        False  \n",
       "3      0.866033                        False  \n",
       "4      0.818390                        False  "
      ]
     },
     "execution_count": 3,
     "metadata": {},
     "output_type": "execute_result"
    }
   ],
   "source": [
    "df.head()"
   ]
  },
  {
   "cell_type": "markdown",
   "metadata": {},
   "source": [
    "# Data Labeling"
   ]
  },
  {
   "cell_type": "markdown",
   "metadata": {},
   "source": [
    "## BERT"
   ]
  },
  {
   "cell_type": "code",
   "execution_count": null,
   "metadata": {},
   "outputs": [
    {
     "name": "stderr",
     "output_type": "stream",
     "text": [
      "Device set to use cpu\n"
     ]
    }
   ],
   "source": [
    "\n",
    "# Load BERT sentiment model\n",
    "classifier = pipeline(\"sentiment-analysis\", model=\"cardiffnlp/twitter-roberta-base-sentiment\")"
   ]
  },
  {
   "cell_type": "code",
   "execution_count": 9,
   "metadata": {},
   "outputs": [],
   "source": [
    "# Optional: filter to English\n",
    "df = df[df[\"language\"] == \"english\"]\n",
    "df = df.drop_duplicates(subset=[\"review_text\"])\n",
    "df = df[df[\"review_text\"].notnull()]\n",
    "df = df[df[\"review_text\"].str.len() > 20]"
   ]
  },
  {
   "cell_type": "code",
   "execution_count": 10,
   "metadata": {},
   "outputs": [],
   "source": [
    "def get_bert_sentiment(text):\n",
    "    try:\n",
    "        result = classifier(text[:512])[0]  # Truncate to 512 tokens (BERT limit)\n",
    "        return result[\"label\"]\n",
    "    except:\n",
    "        return \"ERROR\"\n",
    "\n",
    "df[\"bert_sentiment\"] = df[\"review_text\"].apply(get_bert_sentiment)"
   ]
  },
  {
   "cell_type": "code",
   "execution_count": 11,
   "metadata": {},
   "outputs": [
    {
     "name": "stdout",
     "output_type": "stream",
     "text": [
      "bert_sentiment\n",
      "LABEL_2    4875\n",
      "LABEL_0    1681\n",
      "LABEL_1     785\n",
      "ERROR        29\n",
      "Name: count, dtype: int64\n"
     ]
    }
   ],
   "source": [
    "print(df[\"bert_sentiment\"].value_counts())\n"
   ]
  },
  {
   "cell_type": "code",
   "execution_count": 12,
   "metadata": {},
   "outputs": [],
   "source": [
    "label_map = {\n",
    "    \"LABEL_0\": \"Negative\",\n",
    "    \"LABEL_1\": \"Neutral\",\n",
    "    \"LABEL_2\": \"Positive\"\n",
    "}\n",
    "\n",
    "df[\"bert_sentiment\"] = df[\"bert_sentiment\"].map(label_map).fillna(\"ERROR\")"
   ]
  },
  {
   "cell_type": "code",
   "execution_count": 13,
   "metadata": {},
   "outputs": [
    {
     "data": {
      "text/html": [
       "<div>\n",
       "<style scoped>\n",
       "    .dataframe tbody tr th:only-of-type {\n",
       "        vertical-align: middle;\n",
       "    }\n",
       "\n",
       "    .dataframe tbody tr th {\n",
       "        vertical-align: top;\n",
       "    }\n",
       "\n",
       "    .dataframe thead th {\n",
       "        text-align: right;\n",
       "    }\n",
       "</style>\n",
       "<table border=\"1\" class=\"dataframe\">\n",
       "  <thead>\n",
       "    <tr style=\"text-align: right;\">\n",
       "      <th></th>\n",
       "      <th>review_text</th>\n",
       "    </tr>\n",
       "  </thead>\n",
       "  <tbody>\n",
       "    <tr>\n",
       "      <th>521</th>\n",
       "      <td>ㅆ1발 게임좀 하고 싶다, 지금 수십가지의 게임을 하고 있는데\\n유일하게 섀도우스만...</td>\n",
       "    </tr>\n",
       "    <tr>\n",
       "      <th>710</th>\n",
       "      <td>Итого, за последние 10 лет мы получили 2 лучши...</td>\n",
       "    </tr>\n",
       "    <tr>\n",
       "      <th>826</th>\n",
       "      <td>如果说「幻景」误信了一些老登的话，有点想找老色鬼三部曲的感觉，那么「影」毋庸置疑又坚决的换回...</td>\n",
       "    </tr>\n",
       "    <tr>\n",
       "      <th>853</th>\n",
       "      <td>ส่วนตัวมองว่าเกมไม่ได้แย่ ถ้าเป็นชื่ออื่น ที่ไ...</td>\n",
       "    </tr>\n",
       "    <tr>\n",
       "      <th>985</th>\n",
       "      <td>7/10 เป็นเกมที่สนุกดี แต่ก็ตาม style ubisoft o...</td>\n",
       "    </tr>\n",
       "  </tbody>\n",
       "</table>\n",
       "</div>"
      ],
      "text/plain": [
       "                                           review_text\n",
       "521  ㅆ1발 게임좀 하고 싶다, 지금 수십가지의 게임을 하고 있는데\\n유일하게 섀도우스만...\n",
       "710  Итого, за последние 10 лет мы получили 2 лучши...\n",
       "826  如果说「幻景」误信了一些老登的话，有点想找老色鬼三部曲的感觉，那么「影」毋庸置疑又坚决的换回...\n",
       "853  ส่วนตัวมองว่าเกมไม่ได้แย่ ถ้าเป็นชื่ออื่น ที่ไ...\n",
       "985  7/10 เป็นเกมที่สนุกดี แต่ก็ตาม style ubisoft o..."
      ]
     },
     "execution_count": 13,
     "metadata": {},
     "output_type": "execute_result"
    }
   ],
   "source": [
    "df[df[\"bert_sentiment\"] == \"ERROR\"][[\"review_text\"]].head()"
   ]
  },
  {
   "cell_type": "code",
   "execution_count": 14,
   "metadata": {},
   "outputs": [],
   "source": [
    "# Optionally drop rows with errors\n",
    "df = df[df[\"bert_sentiment\"] != \"ERROR\"]\n"
   ]
  },
  {
   "cell_type": "code",
   "execution_count": 15,
   "metadata": {},
   "outputs": [
    {
     "data": {
      "text/html": [
       "<div>\n",
       "<style scoped>\n",
       "    .dataframe tbody tr th:only-of-type {\n",
       "        vertical-align: middle;\n",
       "    }\n",
       "\n",
       "    .dataframe tbody tr th {\n",
       "        vertical-align: top;\n",
       "    }\n",
       "\n",
       "    .dataframe thead th {\n",
       "        text-align: right;\n",
       "    }\n",
       "</style>\n",
       "<table border=\"1\" class=\"dataframe\">\n",
       "  <thead>\n",
       "    <tr style=\"text-align: right;\">\n",
       "      <th></th>\n",
       "      <th>review_id</th>\n",
       "      <th>review_text</th>\n",
       "      <th>votes_up</th>\n",
       "      <th>votes_funny</th>\n",
       "      <th>comment_count</th>\n",
       "      <th>author_steamid</th>\n",
       "      <th>author_playtime_forever</th>\n",
       "      <th>author_playtime_last_2weeks</th>\n",
       "      <th>language</th>\n",
       "      <th>timestamp_created</th>\n",
       "      <th>timestamp_updated</th>\n",
       "      <th>review_score</th>\n",
       "      <th>written_during_early_access</th>\n",
       "      <th>sentiment_score</th>\n",
       "      <th>sentiment_label</th>\n",
       "      <th>bert_sentiment</th>\n",
       "    </tr>\n",
       "  </thead>\n",
       "  <tbody>\n",
       "    <tr>\n",
       "      <th>0</th>\n",
       "      <td>190981496</td>\n",
       "      <td>Micro transactions in a single-player game wit...</td>\n",
       "      <td>3817</td>\n",
       "      <td>100</td>\n",
       "      <td>0</td>\n",
       "      <td>76561198138838965</td>\n",
       "      <td>111</td>\n",
       "      <td>111</td>\n",
       "      <td>english</td>\n",
       "      <td>1742731944</td>\n",
       "      <td>1742731944</td>\n",
       "      <td>0.878522</td>\n",
       "      <td>False</td>\n",
       "      <td>0.0000</td>\n",
       "      <td>Neutral</td>\n",
       "      <td>Neutral</td>\n",
       "    </tr>\n",
       "    <tr>\n",
       "      <th>1</th>\n",
       "      <td>190725656</td>\n",
       "      <td>I can't play this singleplayer game because of...</td>\n",
       "      <td>9534</td>\n",
       "      <td>229</td>\n",
       "      <td>310</td>\n",
       "      <td>76561198154468788</td>\n",
       "      <td>3093</td>\n",
       "      <td>3093</td>\n",
       "      <td>english</td>\n",
       "      <td>1742492415</td>\n",
       "      <td>1742492415</td>\n",
       "      <td>0.871569</td>\n",
       "      <td>False</td>\n",
       "      <td>-0.2110</td>\n",
       "      <td>Negative</td>\n",
       "      <td>Negative</td>\n",
       "    </tr>\n",
       "    <tr>\n",
       "      <th>2</th>\n",
       "      <td>190939988</td>\n",
       "      <td>13 hours into the game i deeply regret buying ...</td>\n",
       "      <td>4400</td>\n",
       "      <td>102</td>\n",
       "      <td>0</td>\n",
       "      <td>76561198294868408</td>\n",
       "      <td>1816</td>\n",
       "      <td>1816</td>\n",
       "      <td>english</td>\n",
       "      <td>1742688758</td>\n",
       "      <td>1742688860</td>\n",
       "      <td>0.867577</td>\n",
       "      <td>False</td>\n",
       "      <td>-0.9054</td>\n",
       "      <td>Negative</td>\n",
       "      <td>Negative</td>\n",
       "    </tr>\n",
       "    <tr>\n",
       "      <th>3</th>\n",
       "      <td>190677868</td>\n",
       "      <td>Microtransaction in single player game never c...</td>\n",
       "      <td>15366</td>\n",
       "      <td>376</td>\n",
       "      <td>0</td>\n",
       "      <td>76561198273179269</td>\n",
       "      <td>2485</td>\n",
       "      <td>2485</td>\n",
       "      <td>english</td>\n",
       "      <td>1742440803</td>\n",
       "      <td>1742440803</td>\n",
       "      <td>0.866033</td>\n",
       "      <td>False</td>\n",
       "      <td>0.2584</td>\n",
       "      <td>Positive</td>\n",
       "      <td>Negative</td>\n",
       "    </tr>\n",
       "    <tr>\n",
       "      <th>4</th>\n",
       "      <td>190871217</td>\n",
       "      <td>There is NO reason a single player offline exp...</td>\n",
       "      <td>4024</td>\n",
       "      <td>77</td>\n",
       "      <td>0</td>\n",
       "      <td>76561198289521474</td>\n",
       "      <td>9</td>\n",
       "      <td>9</td>\n",
       "      <td>english</td>\n",
       "      <td>1742631374</td>\n",
       "      <td>1742696462</td>\n",
       "      <td>0.818390</td>\n",
       "      <td>False</td>\n",
       "      <td>-0.9067</td>\n",
       "      <td>Negative</td>\n",
       "      <td>Negative</td>\n",
       "    </tr>\n",
       "  </tbody>\n",
       "</table>\n",
       "</div>"
      ],
      "text/plain": [
       "   review_id                                        review_text  votes_up  \\\n",
       "0  190981496  Micro transactions in a single-player game wit...      3817   \n",
       "1  190725656  I can't play this singleplayer game because of...      9534   \n",
       "2  190939988  13 hours into the game i deeply regret buying ...      4400   \n",
       "3  190677868  Microtransaction in single player game never c...     15366   \n",
       "4  190871217  There is NO reason a single player offline exp...      4024   \n",
       "\n",
       "   votes_funny  comment_count     author_steamid  author_playtime_forever  \\\n",
       "0          100              0  76561198138838965                      111   \n",
       "1          229            310  76561198154468788                     3093   \n",
       "2          102              0  76561198294868408                     1816   \n",
       "3          376              0  76561198273179269                     2485   \n",
       "4           77              0  76561198289521474                        9   \n",
       "\n",
       "   author_playtime_last_2weeks language  timestamp_created  timestamp_updated  \\\n",
       "0                          111  english         1742731944         1742731944   \n",
       "1                         3093  english         1742492415         1742492415   \n",
       "2                         1816  english         1742688758         1742688860   \n",
       "3                         2485  english         1742440803         1742440803   \n",
       "4                            9  english         1742631374         1742696462   \n",
       "\n",
       "   review_score  written_during_early_access  sentiment_score sentiment_label  \\\n",
       "0      0.878522                        False           0.0000         Neutral   \n",
       "1      0.871569                        False          -0.2110        Negative   \n",
       "2      0.867577                        False          -0.9054        Negative   \n",
       "3      0.866033                        False           0.2584        Positive   \n",
       "4      0.818390                        False          -0.9067        Negative   \n",
       "\n",
       "  bert_sentiment  \n",
       "0        Neutral  \n",
       "1       Negative  \n",
       "2       Negative  \n",
       "3       Negative  \n",
       "4       Negative  "
      ]
     },
     "execution_count": 15,
     "metadata": {},
     "output_type": "execute_result"
    }
   ],
   "source": [
    "df.head()"
   ]
  },
  {
   "cell_type": "code",
   "execution_count": null,
   "metadata": {},
   "outputs": [],
   "source": [
    "df.to_csv('AC_Shadows_Bert.csv')"
   ]
  }
 ],
 "metadata": {
  "kernelspec": {
   "display_name": "sentiment",
   "language": "python",
   "name": "python3"
  },
  "language_info": {
   "codemirror_mode": {
    "name": "ipython",
    "version": 3
   },
   "file_extension": ".py",
   "mimetype": "text/x-python",
   "name": "python",
   "nbconvert_exporter": "python",
   "pygments_lexer": "ipython3",
   "version": "3.13.2"
  }
 },
 "nbformat": 4,
 "nbformat_minor": 2
}
